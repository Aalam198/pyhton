{
 "cells": [
  {
   "cell_type": "code",
   "execution_count": 3,
   "metadata": {},
   "outputs": [
    {
     "name": "stdout",
     "output_type": "stream",
     "text": [
      "['youtube', 'zepto', 'facebook', 'blinkits', 'amazon', 'google', 'twitter', 'instagram', 'snapchat', 'linkedin', 'tiktok', 'whatsapp']\n"
     ]
    }
   ],
   "source": [
    "apps = ['youtube', 'zepto', 'facebook', 'blinkits', 'amazon', 'google', 'twitter', 'instagram', 'snapchat', 'linkedin', 'tiktok', 'whatsapp',] \n",
    "print(apps)"
   ]
  },
  {
   "cell_type": "code",
   "execution_count": 7,
   "metadata": {},
   "outputs": [
    {
     "name": "stdout",
     "output_type": "stream",
     "text": [
      "youtube *zepto *facebook *blinkits *amazon *google *twitter *instagram *snapchat *linkedin *tiktok *whatsapp *"
     ]
    }
   ],
   "source": [
    "for i in apps:\n",
    "    print(i, end=\" *\")"
   ]
  },
  {
   "cell_type": "code",
   "execution_count": 8,
   "metadata": {},
   "outputs": [
    {
     "name": "stdout",
     "output_type": "stream",
     "text": [
      "twitter\n"
     ]
    }
   ],
   "source": [
    "print(apps[6])"
   ]
  },
  {
   "cell_type": "code",
   "execution_count": 12,
   "metadata": {},
   "outputs": [
    {
     "name": "stdout",
     "output_type": "stream",
     "text": [
      "whatsapp\n"
     ]
    }
   ],
   "source": [
    "print(apps[-1])"
   ]
  }
 ],
 "metadata": {
  "kernelspec": {
   "display_name": "base",
   "language": "python",
   "name": "python3"
  },
  "language_info": {
   "codemirror_mode": {
    "name": "ipython",
    "version": 3
   },
   "file_extension": ".py",
   "mimetype": "text/x-python",
   "name": "python",
   "nbconvert_exporter": "python",
   "pygments_lexer": "ipython3",
   "version": "3.12.7"
  }
 },
 "nbformat": 4,
 "nbformat_minor": 2
}
